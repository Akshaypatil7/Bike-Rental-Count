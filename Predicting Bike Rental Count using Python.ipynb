{
 "cells": [
  {
   "cell_type": "markdown",
   "metadata": {},
   "source": [
    "# Predicting Bike Rental Count"
   ]
  },
  {
   "cell_type": "markdown",
   "metadata": {},
   "source": [
    "-  The objective of this Case is Predication of bike rental count on daily based on the environmental and seasonal settings"
   ]
  },
  {
   "cell_type": "code",
   "execution_count": 1,
   "metadata": {},
   "outputs": [
    {
     "name": "stderr",
     "output_type": "stream",
     "text": [
      "Using TensorFlow backend.\n"
     ]
    }
   ],
   "source": [
    "# loading the required libraries \n",
    "import os\n",
    "import pandas as pd\n",
    "import numpy as np\n",
    "import matplotlib.pyplot as plt\n",
    "import seaborn as sns\n",
    "import matplotlib.pyplot as plt\n",
    "from sklearn.model_selection import train_test_split\n",
    "from sklearn.tree import DecisionTreeRegressor\n",
    "from pandas.plotting import register_matplotlib_converters\n",
    "register_matplotlib_converters()\n",
    "import datetime\n",
    "import scipy.stats as stats\n",
    "from sklearn.preprocessing import StandardScaler\n",
    "from fancyimpute import KNN\n",
    "from scipy.stats import chi2_contingency\n",
    "from patsy import dmatrices\n",
    "import statsmodels.api as sm\n",
    "from statsmodels.stats.outliers_influence import variance_inflation_factor\n",
    "from sklearn.decomposition import PCA\n",
    "import statsmodels.api as sm\n",
    "from statsmodels.formula.api import ols\n",
    "from sklearn import metrics"
   ]
  },
  {
   "cell_type": "code",
   "execution_count": 2,
   "metadata": {},
   "outputs": [
    {
     "data": {
      "text/plain": [
       "'C:\\\\Users\\\\admin\\\\Documents\\\\Python Files'"
      ]
     },
     "execution_count": 2,
     "metadata": {},
     "output_type": "execute_result"
    }
   ],
   "source": [
    "# set the working directory\n",
    "os.chdir('C:/Users/admin/Documents/Python Files')\n",
    "os.getcwd()"
   ]
  },
  {
   "cell_type": "markdown",
   "metadata": {},
   "source": [
    "The details of data attributes in the dataset are as follows:\n",
    "-  instant: Record index\n",
    "-  dteday: Date\n",
    "-  season: Season (1:springer, 2:summer, 3:fall, 4:winter)\n",
    "-  yr: Year (0: 2011, 1:2012)\n",
    "-  mnth: Month (1 to 12)\n",
    "-  holiday: weather day is holiday or not (extracted fromHoliday Schedule)\n",
    "-  weekday: Day of the week\n",
    "-  workingday: If day is neither weekend nor holiday is 1, otherwise is 0.\n",
    "-  weathersit: (extracted fromFreemeteo)\n",
    "    -   1: Clear, Few clouds, Partly cloudy, Partly cloudy\n",
    "    -   2: Mist + Cloudy, Mist + Broken clouds, Mist + Few clouds, Mist\n",
    "    -   3: Light Snow, Light Rain + Thunderstorm + Scattered clouds, Light Rain + Scatteredclouds\n",
    "    -   4: Heavy Rain + Ice Pallets + Thunderstorm + Mist, Snow + Fog\n",
    "-  temp: Normalized temperature in Celsius. The values are derived via(t-t_min)/(t_max-t_min),t_min=-8, t_max=+39 (only in hourly scale)\n",
    "-  atemp: Normalized feeling temperature in Celsius. The values are derived via(t-t_min)/(t_max-t_min), t_min=-16, t_max=+50 (only in hourly scale)\n",
    "-  hum: Normalized humidity. The values are divided to 100 (max)\n",
    "-  windspeed: Normalized wind speed. The values are divided to 67 (max)\n",
    "-  casual: count of casual users\n",
    "-  registered: count of registered users\n",
    "-  cnt: count of total rental bikes including both casual and registered"
   ]
  },
  {
   "cell_type": "code",
   "execution_count": 3,
   "metadata": {
    "scrolled": false
   },
   "outputs": [
    {
     "data": {
      "text/html": [
       "<div>\n",
       "<style scoped>\n",
       "    .dataframe tbody tr th:only-of-type {\n",
       "        vertical-align: middle;\n",
       "    }\n",
       "\n",
       "    .dataframe tbody tr th {\n",
       "        vertical-align: top;\n",
       "    }\n",
       "\n",
       "    .dataframe thead th {\n",
       "        text-align: right;\n",
       "    }\n",
       "</style>\n",
       "<table border=\"1\" class=\"dataframe\">\n",
       "  <thead>\n",
       "    <tr style=\"text-align: right;\">\n",
       "      <th></th>\n",
       "      <th>season</th>\n",
       "      <th>yr</th>\n",
       "      <th>mnth</th>\n",
       "      <th>holiday</th>\n",
       "      <th>weekday</th>\n",
       "      <th>workingday</th>\n",
       "      <th>weathersit</th>\n",
       "      <th>temp</th>\n",
       "      <th>atemp</th>\n",
       "      <th>hum</th>\n",
       "      <th>windspeed</th>\n",
       "      <th>casual</th>\n",
       "      <th>registered</th>\n",
       "      <th>cnt</th>\n",
       "    </tr>\n",
       "    <tr>\n",
       "      <th>dteday</th>\n",
       "      <th></th>\n",
       "      <th></th>\n",
       "      <th></th>\n",
       "      <th></th>\n",
       "      <th></th>\n",
       "      <th></th>\n",
       "      <th></th>\n",
       "      <th></th>\n",
       "      <th></th>\n",
       "      <th></th>\n",
       "      <th></th>\n",
       "      <th></th>\n",
       "      <th></th>\n",
       "      <th></th>\n",
       "    </tr>\n",
       "  </thead>\n",
       "  <tbody>\n",
       "    <tr>\n",
       "      <th>2011-01-01</th>\n",
       "      <td>1</td>\n",
       "      <td>0</td>\n",
       "      <td>1</td>\n",
       "      <td>0</td>\n",
       "      <td>6</td>\n",
       "      <td>0</td>\n",
       "      <td>2</td>\n",
       "      <td>0.344167</td>\n",
       "      <td>0.363625</td>\n",
       "      <td>0.805833</td>\n",
       "      <td>0.160446</td>\n",
       "      <td>331</td>\n",
       "      <td>654</td>\n",
       "      <td>985</td>\n",
       "    </tr>\n",
       "    <tr>\n",
       "      <th>2011-01-02</th>\n",
       "      <td>1</td>\n",
       "      <td>0</td>\n",
       "      <td>1</td>\n",
       "      <td>0</td>\n",
       "      <td>0</td>\n",
       "      <td>0</td>\n",
       "      <td>2</td>\n",
       "      <td>0.363478</td>\n",
       "      <td>0.353739</td>\n",
       "      <td>0.696087</td>\n",
       "      <td>0.248539</td>\n",
       "      <td>131</td>\n",
       "      <td>670</td>\n",
       "      <td>801</td>\n",
       "    </tr>\n",
       "    <tr>\n",
       "      <th>2011-01-03</th>\n",
       "      <td>1</td>\n",
       "      <td>0</td>\n",
       "      <td>1</td>\n",
       "      <td>0</td>\n",
       "      <td>1</td>\n",
       "      <td>1</td>\n",
       "      <td>1</td>\n",
       "      <td>0.196364</td>\n",
       "      <td>0.189405</td>\n",
       "      <td>0.437273</td>\n",
       "      <td>0.248309</td>\n",
       "      <td>120</td>\n",
       "      <td>1229</td>\n",
       "      <td>1349</td>\n",
       "    </tr>\n",
       "    <tr>\n",
       "      <th>2011-01-04</th>\n",
       "      <td>1</td>\n",
       "      <td>0</td>\n",
       "      <td>1</td>\n",
       "      <td>0</td>\n",
       "      <td>2</td>\n",
       "      <td>1</td>\n",
       "      <td>1</td>\n",
       "      <td>0.200000</td>\n",
       "      <td>0.212122</td>\n",
       "      <td>0.590435</td>\n",
       "      <td>0.160296</td>\n",
       "      <td>108</td>\n",
       "      <td>1454</td>\n",
       "      <td>1562</td>\n",
       "    </tr>\n",
       "    <tr>\n",
       "      <th>2011-01-05</th>\n",
       "      <td>1</td>\n",
       "      <td>0</td>\n",
       "      <td>1</td>\n",
       "      <td>0</td>\n",
       "      <td>3</td>\n",
       "      <td>1</td>\n",
       "      <td>1</td>\n",
       "      <td>0.226957</td>\n",
       "      <td>0.229270</td>\n",
       "      <td>0.436957</td>\n",
       "      <td>0.186900</td>\n",
       "      <td>82</td>\n",
       "      <td>1518</td>\n",
       "      <td>1600</td>\n",
       "    </tr>\n",
       "  </tbody>\n",
       "</table>\n",
       "</div>"
      ],
      "text/plain": [
       "            season  yr  mnth  holiday  weekday  workingday  weathersit  \\\n",
       "dteday                                                                   \n",
       "2011-01-01       1   0     1        0        6           0           2   \n",
       "2011-01-02       1   0     1        0        0           0           2   \n",
       "2011-01-03       1   0     1        0        1           1           1   \n",
       "2011-01-04       1   0     1        0        2           1           1   \n",
       "2011-01-05       1   0     1        0        3           1           1   \n",
       "\n",
       "                temp     atemp       hum  windspeed  casual  registered   cnt  \n",
       "dteday                                                                         \n",
       "2011-01-01  0.344167  0.363625  0.805833   0.160446     331         654   985  \n",
       "2011-01-02  0.363478  0.353739  0.696087   0.248539     131         670   801  \n",
       "2011-01-03  0.196364  0.189405  0.437273   0.248309     120        1229  1349  \n",
       "2011-01-04  0.200000  0.212122  0.590435   0.160296     108        1454  1562  \n",
       "2011-01-05  0.226957  0.229270  0.436957   0.186900      82        1518  1600  "
      ]
     },
     "execution_count": 3,
     "metadata": {},
     "output_type": "execute_result"
    }
   ],
   "source": [
    "# Importing data\n",
    "df = pd.read_csv('day.csv',index_col='dteday',parse_dates=True,infer_datetime_format=True,dayfirst=True)\n",
    "# Dropping the 1st column i.e. 'instant' Coz it is seems statisticaly insignificant\n",
    "df=df.drop('instant',axis=1)\n",
    "df.head(5)"
   ]
  },
  {
   "cell_type": "code",
   "execution_count": null,
   "metadata": {
    "scrolled": true
   },
   "outputs": [],
   "source": [
    "df.describe(),df.info()"
   ]
  },
  {
   "cell_type": "markdown",
   "metadata": {},
   "source": [
    "-  We have used dteday as index and converted it into DatetimeIndex "
   ]
  },
  {
   "cell_type": "code",
   "execution_count": null,
   "metadata": {},
   "outputs": [],
   "source": [
    "type(df.index)"
   ]
  },
  {
   "cell_type": "markdown",
   "metadata": {},
   "source": [
    "## Graphical EDA - Data Visualization "
   ]
  },
  {
   "cell_type": "code",
   "execution_count": 4,
   "metadata": {},
   "outputs": [],
   "source": [
    "# setting up the sns for plots\n",
    "sns.set(style='darkgrid',palette='Set1')"
   ]
  },
  {
   "cell_type": "code",
   "execution_count": null,
   "metadata": {
    "scrolled": true
   },
   "outputs": [],
   "source": [
    "plt.figure(figsize=(10,10))\n",
    "_ = sns.violinplot(x='weekday',y='cnt',data=df,inner=None,color='lightgray')\n",
    "_ = sns.stripplot(x='weekday',y='cnt',data=df,size=4,jitter=True)\n",
    "plt.title('')\n",
    "plt.show()"
   ]
  },
  {
   "cell_type": "markdown",
   "metadata": {},
   "source": [
    "-  We will plot some Bee Swarmplots coz unlike histogram there is no binnig bias involved"
   ]
  },
  {
   "cell_type": "code",
   "execution_count": null,
   "metadata": {},
   "outputs": [],
   "source": [
    "plt.figure(figsize=(25,25))\n",
    "plt.subplot(321)\n",
    "_ = sns.swarmplot(x='season',y='cnt',data=df,hue='workingday',size=8)\n",
    "plt.title('Bike Count w.r.t season and working day')\n",
    "plt.subplot(322)\n",
    "_ = sns.swarmplot(x='weekday',y='cnt',data=df,hue='workingday',size=8)\n",
    "plt.title('Bike Count w.r.t weekday and working day')\n",
    "plt.subplot(323)\n",
    "_ = sns.swarmplot(x='holiday',y='cnt',data=df,hue='workingday',size=8)\n",
    "plt.title('Bike Count w.r.t holiday and working day')\n",
    "plt.subplot(324)\n",
    "_ = sns.swarmplot(x='weathersit',y='cnt',data=df,hue='workingday',size=8)\n",
    "plt.title('Bike Count w.r.t weathersit and working day')\n",
    "plt.subplot(325)\n",
    "_ = sns.swarmplot(x='yr',y='cnt',data=df,hue='workingday',size=8)\n",
    "plt.title('Bike Count w.r.t yr and working day')\n",
    "plt.subplot(326)\n",
    "_ = sns.swarmplot(x='mnth',y='cnt',data=df,hue='workingday',size=8)\n",
    "plt.title('Bike Count w.r.t mnth and working day')\n",
    "plt.show()"
   ]
  },
  {
   "cell_type": "code",
   "execution_count": null,
   "metadata": {},
   "outputs": [],
   "source": [
    "temp = df['temp']\n",
    "temp=temp['2011']\n",
    "atemp = df['atemp']\n",
    "atemp = atemp['2011']\n",
    "hum = df['hum']\n",
    "hum = hum['2011']\n",
    "windspeed = df['windspeed']\n",
    "windspeed = windspeed['2011']\n",
    "temp_index = temp.index[::30]\n",
    "labels = temp_index.strftime('%b %d')\n",
    "labels"
   ]
  },
  {
   "cell_type": "markdown",
   "metadata": {},
   "source": [
    "-  Now we will do some Time Series Analysis"
   ]
  },
  {
   "cell_type": "code",
   "execution_count": null,
   "metadata": {},
   "outputs": [],
   "source": [
    "plt.figure(figsize=(20,20))\n",
    "plt.subplot(411)\n",
    "plt.plot(temp,color = 'r',label = 'temp')\n",
    "plt.legend(loc = 1)\n",
    "plt.subplot(412)\n",
    "plt.plot(atemp,color = 'b',label = 'atemp')\n",
    "plt.legend(loc = 1)\n",
    "plt.subplot(413)\n",
    "plt.plot(hum,color = 'k',label = 'humidity')\n",
    "plt.legend(loc = 1)\n",
    "plt.subplot(414)\n",
    "plt.plot(windspeed,color = 'c',label = 'windspeed')\n",
    "plt.xticks(temp_index,labels,rotation=60)\n",
    "plt.legend(loc = 1)\n",
    "plt.show()"
   ]
  },
  {
   "cell_type": "markdown",
   "metadata": {},
   "source": [
    "-  Now we will see at some Jointplots.\n",
    "-  They are used for Bivariate Analysis.\n",
    "-  Here we have plotted Scatter plot with Regression line between 2 variables along with separate Bar plots of both variables.\n",
    "-  Also we have annotated pearson correlation coefficient and p value."
   ]
  },
  {
   "cell_type": "code",
   "execution_count": null,
   "metadata": {},
   "outputs": [],
   "source": [
    "_ = sns.jointplot(x='cnt',y='temp',data=df,kind = 'reg')\n",
    "_.annotate(stats.pearsonr)\n",
    "plt.show()"
   ]
  },
  {
   "cell_type": "code",
   "execution_count": null,
   "metadata": {},
   "outputs": [],
   "source": [
    "_ = sns.jointplot(x='cnt',y='atemp',data=df,kind = 'reg')\n",
    "_.annotate(stats.pearsonr)\n",
    "plt.show()"
   ]
  },
  {
   "cell_type": "code",
   "execution_count": null,
   "metadata": {},
   "outputs": [],
   "source": [
    "_ = sns.jointplot(x='cnt',y='hum',data=df,kind = 'reg')\n",
    "_.annotate(stats.pearsonr)\n",
    "plt.show()"
   ]
  },
  {
   "cell_type": "code",
   "execution_count": null,
   "metadata": {},
   "outputs": [],
   "source": [
    "_ = sns.jointplot(x='cnt',y='windspeed',data=df,kind = 'reg')\n",
    "_.annotate(stats.pearsonr)\n",
    "plt.show()"
   ]
  },
  {
   "cell_type": "markdown",
   "metadata": {},
   "source": [
    "## EDA - Data type conversion"
   ]
  },
  {
   "cell_type": "code",
   "execution_count": 5,
   "metadata": {},
   "outputs": [],
   "source": [
    "cat_var=['season','holiday','weekday','workingday','weathersit','yr','mnth']\n",
    "df[cat_var]=df[cat_var].apply(lambda x: x.astype('category') )\n",
    "num_var=['temp','atemp','hum','windspeed','cnt']"
   ]
  },
  {
   "cell_type": "code",
   "execution_count": null,
   "metadata": {},
   "outputs": [],
   "source": [
    "#plt.title('Pairplot for all numerical variables')\n",
    "_ =sns.pairplot(data=df[num_var],kind='scatter')\n",
    "_.fig.suptitle('Pairwise plot of all numerical variables')\n",
    "plt.show()"
   ]
  },
  {
   "cell_type": "markdown",
   "metadata": {},
   "source": [
    "## Missing Value Analysis "
   ]
  },
  {
   "cell_type": "code",
   "execution_count": null,
   "metadata": {
    "scrolled": true
   },
   "outputs": [],
   "source": [
    "pd.DataFrame(df.isnull().sum())"
   ]
  },
  {
   "cell_type": "code",
   "execution_count": null,
   "metadata": {
    "scrolled": true
   },
   "outputs": [],
   "source": [
    "df.info()"
   ]
  },
  {
   "cell_type": "markdown",
   "metadata": {},
   "source": [
    "## Outlier Analysis using Boxplot"
   ]
  },
  {
   "cell_type": "markdown",
   "metadata": {},
   "source": [
    "-  Univariate Boxplots"
   ]
  },
  {
   "cell_type": "code",
   "execution_count": null,
   "metadata": {
    "scrolled": true
   },
   "outputs": [],
   "source": [
    "for i in num_var:\n",
    "    sns.boxplot(y=i,data=df)\n",
    "    plt.title('Boxplot of '+i)\n",
    "    plt.show()"
   ]
  },
  {
   "cell_type": "markdown",
   "metadata": {},
   "source": [
    "-  Bivariate Boxplots"
   ]
  },
  {
   "cell_type": "code",
   "execution_count": null,
   "metadata": {},
   "outputs": [],
   "source": [
    "for a in cat_var:\n",
    "    for b in num_var:\n",
    "        _ = sns.boxplot(x=a,y=b,data=df)\n",
    "        plt.title('Boxplot of '+b+' w.r.t '+a)\n",
    "        plt.show()"
   ]
  },
  {
   "cell_type": "markdown",
   "metadata": {},
   "source": [
    "## Outlier Treatment\n",
    "-  As we can see from the above Boxplots only 'hum' and 'windspeed' columns in the dataset has outliers"
   ]
  },
  {
   "cell_type": "code",
   "execution_count": null,
   "metadata": {
    "scrolled": true
   },
   "outputs": [],
   "source": [
    "df.std()"
   ]
  },
  {
   "cell_type": "markdown",
   "metadata": {},
   "source": [
    "#### Std Deviation before outlier treatment :\n",
    "-  standard deviation for 'hum'= 0.142429\n",
    "-  standard deviation for 'windspeed'= 0.077498"
   ]
  },
  {
   "cell_type": "code",
   "execution_count": 6,
   "metadata": {},
   "outputs": [],
   "source": [
    "def outlier_treatment(col):\n",
    "    ''' calculating outlier indices and replacing them with NA  '''\n",
    "    #Extract quartiles\n",
    "    q75, q25 = np.percentile(df[col], [75 ,25])\n",
    "    #Calculate IQR\n",
    "    iqr = q75 - q25\n",
    "    #Calculate inner and outer fence\n",
    "    minimum = q25 - (iqr*1.5)\n",
    "    maximum = q75 + (iqr*1.5)\n",
    "    #Replace with NA\n",
    "    df.loc[df[col] < minimum,col] = np.nan\n",
    "    df.loc[df[col] > maximum,col] = np.nan"
   ]
  },
  {
   "cell_type": "code",
   "execution_count": 7,
   "metadata": {},
   "outputs": [],
   "source": [
    "outlier_treatment('hum')"
   ]
  },
  {
   "cell_type": "code",
   "execution_count": 8,
   "metadata": {},
   "outputs": [
    {
     "data": {
      "text/plain": [
       "2"
      ]
     },
     "execution_count": 8,
     "metadata": {},
     "output_type": "execute_result"
    }
   ],
   "source": [
    "df['hum'].isnull().sum()"
   ]
  },
  {
   "cell_type": "markdown",
   "metadata": {},
   "source": [
    "-  We have checked standard deviation for 3 imputation methods-mean,median,KNN and standard deviation remains nearly same with KNN imputation. so, KNN is selected for imputation method.\n",
    "-  And we have also checked standard deviation for different values of K for KNN and we have selected K=3 for 'hum' and K=1 for 'windspeed'."
   ]
  },
  {
   "cell_type": "code",
   "execution_count": 9,
   "metadata": {
    "scrolled": false
   },
   "outputs": [
    {
     "name": "stdout",
     "output_type": "stream",
     "text": [
      "Imputing row 1/731 with 0 missing, elapsed time: 1.107\n",
      "Imputing row 101/731 with 0 missing, elapsed time: 1.290\n",
      "Imputing row 201/731 with 0 missing, elapsed time: 1.291\n",
      "Imputing row 301/731 with 0 missing, elapsed time: 1.291\n",
      "Imputing row 401/731 with 0 missing, elapsed time: 1.291\n",
      "Imputing row 501/731 with 0 missing, elapsed time: 1.292\n",
      "Imputing row 601/731 with 0 missing, elapsed time: 1.292\n",
      "Imputing row 701/731 with 0 missing, elapsed time: 1.292\n"
     ]
    }
   ],
   "source": [
    "#Imputing with missing values using KNN\n",
    "df = pd.DataFrame(KNN(k = 3).fit_transform(df), columns = df.columns, index=df.index)"
   ]
  },
  {
   "cell_type": "code",
   "execution_count": 10,
   "metadata": {},
   "outputs": [],
   "source": [
    "outlier_treatment('windspeed')"
   ]
  },
  {
   "cell_type": "code",
   "execution_count": 11,
   "metadata": {
    "scrolled": true
   },
   "outputs": [
    {
     "data": {
      "text/plain": [
       "13"
      ]
     },
     "execution_count": 11,
     "metadata": {},
     "output_type": "execute_result"
    }
   ],
   "source": [
    "df['windspeed'].isnull().sum()"
   ]
  },
  {
   "cell_type": "code",
   "execution_count": 12,
   "metadata": {
    "scrolled": true
   },
   "outputs": [
    {
     "name": "stdout",
     "output_type": "stream",
     "text": [
      "Imputing row 1/731 with 0 missing, elapsed time: 0.142\n",
      "Imputing row 101/731 with 0 missing, elapsed time: 0.143\n",
      "Imputing row 201/731 with 0 missing, elapsed time: 0.143\n",
      "Imputing row 301/731 with 0 missing, elapsed time: 0.144\n",
      "Imputing row 401/731 with 0 missing, elapsed time: 0.145\n",
      "Imputing row 501/731 with 0 missing, elapsed time: 0.146\n",
      "Imputing row 601/731 with 0 missing, elapsed time: 0.146\n",
      "Imputing row 701/731 with 0 missing, elapsed time: 0.147\n"
     ]
    }
   ],
   "source": [
    "#Imputing with missing values using KNN\n",
    "df = pd.DataFrame(KNN(k = 1).fit_transform(df), columns = df.columns, index=df.index)"
   ]
  },
  {
   "cell_type": "code",
   "execution_count": null,
   "metadata": {},
   "outputs": [],
   "source": [
    "# #Impute with mean\n",
    "# df['hum'] = df['hum'].fillna(df['hum'].median())\n",
    "# #Impute with median\n",
    "# df['windspeed'] = df['windspeed'].fillna(df['windspeed'].median())"
   ]
  },
  {
   "cell_type": "code",
   "execution_count": null,
   "metadata": {
    "scrolled": false
   },
   "outputs": [],
   "source": [
    "df.std()"
   ]
  },
  {
   "cell_type": "markdown",
   "metadata": {},
   "source": [
    "#### Std Deviation after outlier treatment :\n",
    "-  standard deviation for 'hum'= 0.140021\n",
    "-  standard deviation for 'windspeed'= 0.071707"
   ]
  },
  {
   "cell_type": "code",
   "execution_count": null,
   "metadata": {},
   "outputs": [],
   "source": [
    "df.head()"
   ]
  },
  {
   "cell_type": "markdown",
   "metadata": {},
   "source": [
    "## Feature Selection"
   ]
  },
  {
   "cell_type": "markdown",
   "metadata": {},
   "source": [
    "### Correlation Analysis for Numerical Variables/Features"
   ]
  },
  {
   "cell_type": "markdown",
   "metadata": {},
   "source": [
    "-  We will plot a Heatmap of correlation whereas, co measures how strongly 2 quantities are related to each other.\n",
    "-  We go for correlation to avoid redundant information in our model development."
   ]
  },
  {
   "cell_type": "code",
   "execution_count": null,
   "metadata": {
    "scrolled": true
   },
   "outputs": [],
   "source": [
    "# heatmap using correlation matrix\n",
    "plt.figure(figsize=(15,15))\n",
    "_ = sns.heatmap(df[['temp','atemp','hum','windspeed','casual', 'registered','cnt']].corr(),linewidths=0.5,linecolor='w',square=True,annot=True)\n",
    "plt.title('Correlation matrix of all numerical variables')\n",
    "plt.show()"
   ]
  },
  {
   "cell_type": "markdown",
   "metadata": {},
   "source": [
    "-  'temp' and 'atemp' are very highly correlated with each other.\n",
    "-  similarly 'registered' and 'cnt' are highly correlated with each other.\n",
    "-  we also came to know that--'cnt'='casual'+'registered'"
   ]
  },
  {
   "cell_type": "markdown",
   "metadata": {},
   "source": [
    "### Chi-square test of Independence for Categorical Variables/Features"
   ]
  },
  {
   "cell_type": "markdown",
   "metadata": {},
   "source": [
    "-  Hypothesis testing :\n",
    "    -  Null Hypothesis: 2 variables are independent.\n",
    "    -  Alternate Hypothesis: 2 variables are not independent.\n",
    "-  If p-value is less than 0.05 then we reject the null hypothesis saying that 2 variables are dependent.\n",
    "-  And if p-value is greater than 0.05 then we accept the null hypothesis saying that 2 variables are independent. \n",
    "-  There should be no dependencies between Independent variables.\n",
    "-  So we will remove that variable whose p-value with other variable is low than 0.05.\n",
    "-  And we will keep that variable whose p-value with other variable is high than 0.05"
   ]
  },
  {
   "cell_type": "code",
   "execution_count": 13,
   "metadata": {
    "scrolled": false
   },
   "outputs": [
    {
     "name": "stdout",
     "output_type": "stream",
     "text": [
      "season and holiday are independent on each other with 0.6831687073042003 ----Keep\n",
      "season and weekday are independent on each other with 0.9999999999988407 ----Keep\n",
      "season and workingday are independent on each other with 0.8865568364019545 ----Keep\n",
      "season and weathersit are dependent on each other with 0.021179301044733697 ----Remove\n",
      "season and yr are independent on each other with 0.9999288084245916 ----Keep\n",
      "season and mnth are dependent on each other with 0.0 ----Remove\n",
      "holiday and season are independent on each other with 0.6831687073042005 ----Keep\n",
      "holiday and weekday are dependent on each other with 8.567055344615667e-11 ----Remove\n",
      "holiday and workingday are dependent on each other with 4.033370935452143e-11 ----Remove\n",
      "holiday and weathersit are independent on each other with 0.6008572213448835 ----Keep\n",
      "holiday and yr are independent on each other with 0.9949247279855291 ----Keep\n",
      "holiday and mnth are independent on each other with 0.5593083086035064 ----Keep\n",
      "weekday and season are independent on each other with 0.9999999999988407 ----Keep\n",
      "weekday and holiday are dependent on each other with 8.567055344615637e-11 ----Remove\n",
      "weekday and workingday are dependent on each other with 6.775030505809736e-136 ----Remove\n",
      "weekday and weathersit are independent on each other with 0.2784593307450517 ----Keep\n",
      "weekday and yr are independent on each other with 0.9999995848511959 ----Keep\n",
      "weekday and mnth are independent on each other with 1.0 ----Keep\n",
      "workingday and season are independent on each other with 0.8865568364019545 ----Keep\n",
      "workingday and holiday are dependent on each other with 4.033370935452143e-11 ----Remove\n",
      "workingday and weekday are dependent on each other with 6.775030505809736e-136 ----Remove\n",
      "workingday and weathersit are independent on each other with 0.2537639982644043 ----Keep\n",
      "workingday and yr are independent on each other with 0.9799434134248637 ----Keep\n",
      "workingday and mnth are independent on each other with 0.9933495217919545 ----Keep\n",
      "weathersit and season are dependent on each other with 0.02117930104473366 ----Remove\n",
      "weathersit and holiday are independent on each other with 0.6008572213448835 ----Keep\n",
      "weathersit and weekday are independent on each other with 0.27845933074505175 ----Keep\n",
      "weathersit and workingday are independent on each other with 0.2537639982644043 ----Keep\n",
      "weathersit and yr are independent on each other with 0.12737941480418666 ----Keep\n",
      "weathersit and mnth are dependent on each other with 0.014637111771019196 ----Remove\n",
      "yr and season are independent on each other with 0.9999288084245916 ----Keep\n",
      "yr and holiday are independent on each other with 0.9949247279855291 ----Keep\n",
      "yr and weekday are independent on each other with 0.9999995848511959 ----Keep\n",
      "yr and workingday are independent on each other with 0.9799434134248637 ----Keep\n",
      "yr and weathersit are independent on each other with 0.12737941480418666 ----Keep\n",
      "yr and mnth are independent on each other with 0.9999999999999892 ----Keep\n",
      "mnth and season are dependent on each other with 0.0 ----Remove\n",
      "mnth and holiday are independent on each other with 0.5593083086035064 ----Keep\n",
      "mnth and weekday are independent on each other with 1.0 ----Keep\n",
      "mnth and workingday are independent on each other with 0.9933495217919545 ----Keep\n",
      "mnth and weathersit are dependent on each other with 0.014637111771019196 ----Remove\n",
      "mnth and yr are independent on each other with 0.9999999999999892 ----Keep\n"
     ]
    }
   ],
   "source": [
    "#loop for chi square values\n",
    "for i in cat_var:\n",
    "    for j in cat_var:\n",
    "        if(i != j):\n",
    "            chi2, p, dof, ex = chi2_contingency(pd.crosstab(df[i], df[j]))\n",
    "            if(p < 0.05):\n",
    "                print(i,\"and\",j,\"are dependent on each other with\",p,'----Remove')\n",
    "            else:\n",
    "                print(i,\"and\",j,\"are independent on each other with\",p,'----Keep')"
   ]
  },
  {
   "cell_type": "markdown",
   "metadata": {},
   "source": [
    "-  variables which are highly dependent on each other based on p-values are:\n",
    "    - season and weathersit\n",
    "    - season and month\n",
    "    - holiday and weekday\n",
    "    - hoilday and workingday\n",
    "    - weekday and holiday\n",
    "    - weekday and workingday\n",
    "    - workingday and holiday\n",
    "    - workingday and weekday\n",
    "    - weathersit and season\n",
    "    - weathersit and mnth\n",
    "    - mnth and season\n",
    "    - mnth and weathersit\n",
    "-  So besides weathersit,weekdayand yr we will remove season,holiday,workingday,mnth."
   ]
  },
  {
   "cell_type": "code",
   "execution_count": 14,
   "metadata": {},
   "outputs": [],
   "source": [
    "# Back up data\n",
    "t = df\n",
    "# df = t"
   ]
  },
  {
   "cell_type": "code",
   "execution_count": 15,
   "metadata": {},
   "outputs": [],
   "source": [
    "df = df.drop(['mnth','holiday','workingday'],axis = 1)"
   ]
  },
  {
   "cell_type": "markdown",
   "metadata": {},
   "source": [
    "## Feature Scaling"
   ]
  },
  {
   "cell_type": "markdown",
   "metadata": {},
   "source": [
    "-  Let us check variance for each column in dataset before Normalisation\n",
    "-  High variance will affect the accuracy of the model. so we want to normalise that variance."
   ]
  },
  {
   "cell_type": "code",
   "execution_count": null,
   "metadata": {
    "scrolled": true
   },
   "outputs": [],
   "source": [
    "df[num_var].var()"
   ]
  },
  {
   "cell_type": "code",
   "execution_count": null,
   "metadata": {},
   "outputs": [],
   "source": [
    "fig,ax = plt.subplots(nrows=5,ncols=2)\n",
    "fig.set_size_inches(25, 25)\n",
    "sns.distplot(df['temp'],bins =50,ax = ax[0][0])\n",
    "ax[0][0].set(title=\"temp distribution\")\n",
    "_ = stats.probplot(df['temp'], dist='norm', fit=True,plot=ax[0][1])\n",
    "ax[0][1].set(title=\"Probability Plot\")\n",
    "sns.distplot(df['atemp'],bins =50,ax = ax[1][0])\n",
    "ax[1][0].set(title=\"atemp distribution\")\n",
    "_ = stats.probplot(df['atemp'], dist='norm', fit=True,plot=ax[1][1])\n",
    "ax[1][1].set(title=\"Probability Plot\")\n",
    "sns.distplot(df['hum'],bins =50,ax = ax[2][0])\n",
    "ax[2][0].set(title=\"hum distribution\")\n",
    "_ = stats.probplot(df['hum'], dist='norm', fit=True,plot=ax[2][1])\n",
    "ax[2][1].set(title=\"Probability Plot\")\n",
    "sns.distplot(df['windspeed'],bins =50,ax = ax[3][0])\n",
    "ax[3][0].set(title=\"windspeed distribution\")\n",
    "_ = stats.probplot(df['windspeed'], dist='norm', fit=True,plot=ax[3][1])\n",
    "ax[3][1].set(title=\"Probability Plot\")\n",
    "sns.distplot(df['cnt'],bins =50,ax = ax[4][0])\n",
    "ax[4][0].set(title=\"cnt distribution\")\n",
    "_ = stats.probplot(df['cnt'], dist='norm', fit=True,plot=ax[4][1])\n",
    "ax[4][1].set(title=\"Probability Plot\")"
   ]
  },
  {
   "cell_type": "markdown",
   "metadata": {},
   "source": [
    "### Note: If you want to use PCA don't normalise the data use scaler method instead which is in PCA section of code."
   ]
  },
  {
   "cell_type": "code",
   "execution_count": 13,
   "metadata": {
    "scrolled": false
   },
   "outputs": [
    {
     "name": "stdout",
     "output_type": "stream",
     "text": [
      "temp\n",
      "atemp\n",
      "hum\n",
      "windspeed\n",
      "cnt\n"
     ]
    }
   ],
   "source": [
    "#Normalisation\n",
    "for i in num_var:\n",
    "    print(i)\n",
    "    df[i] = (df[i] - min(df[i]))/(max(df[i]) - min(df[i]))"
   ]
  },
  {
   "cell_type": "markdown",
   "metadata": {},
   "source": [
    "-  Plots after Normalisation"
   ]
  },
  {
   "cell_type": "code",
   "execution_count": null,
   "metadata": {
    "scrolled": true
   },
   "outputs": [],
   "source": [
    "fig,ax = plt.subplots(nrows=5,ncols=2)\n",
    "fig.set_size_inches(25, 25)\n",
    "sns.distplot(df['temp'],bins =50,ax = ax[0][0])\n",
    "ax[0][0].set(title=\"temp distribution\")\n",
    "_ = stats.probplot(df['temp'], dist='norm', fit=True,plot=ax[0][1])\n",
    "ax[0][1].set(title=\"Probability Plot\")\n",
    "sns.distplot(df['atemp'],bins =50,ax = ax[1][0])\n",
    "ax[1][0].set(title=\"atemp distribution\")\n",
    "_ = stats.probplot(df['atemp'], dist='norm', fit=True,plot=ax[1][1])\n",
    "ax[1][1].set(title=\"Probability Plot\")\n",
    "sns.distplot(df['hum'],bins =50,ax = ax[2][0])\n",
    "ax[2][0].set(title=\"hum distribution\")\n",
    "_ = stats.probplot(df['hum'], dist='norm', fit=True,plot=ax[2][1])\n",
    "ax[2][1].set(title=\"Probability Plot\")\n",
    "sns.distplot(df['windspeed'],bins =50,ax = ax[3][0])\n",
    "ax[3][0].set(title=\"windspeed distribution\")\n",
    "_ = stats.probplot(df['windspeed'], dist='norm', fit=True,plot=ax[3][1])\n",
    "ax[3][1].set(title=\"Probability Plot\")\n",
    "sns.distplot(df['cnt'],bins =50,ax = ax[4][0])\n",
    "ax[4][0].set(title=\"cnt distribution\")\n",
    "_ = stats.probplot(df['cnt'], dist='norm', fit=True,plot=ax[4][1])\n",
    "ax[4][1].set(title=\"Probability Plot\")"
   ]
  },
  {
   "cell_type": "markdown",
   "metadata": {},
   "source": [
    "-  Let us check variance for each column in dataset after Normalisation"
   ]
  },
  {
   "cell_type": "code",
   "execution_count": null,
   "metadata": {
    "scrolled": false
   },
   "outputs": [],
   "source": [
    "df[num_var].var()"
   ]
  },
  {
   "cell_type": "markdown",
   "metadata": {},
   "source": [
    "## More Feature Selection Test"
   ]
  },
  {
   "cell_type": "markdown",
   "metadata": {},
   "source": [
    "## Analysis of Variance(Anova) Test"
   ]
  },
  {
   "cell_type": "markdown",
   "metadata": {},
   "source": [
    "-  It is carried out to compare between each groups in a categorical variable.\n",
    "-  ANOVA only lets us know the means for different groups are same or not. It doesn’t help us identify which mean is different.\n",
    "-  Hypothesis testing :\n",
    "    -  Null Hypothesis: mean of all categories in a variable are same.\n",
    "    -  Alternate Hypothesis: mean of at least one category in a variable is different.\n",
    "-  If p-value is less than 0.05 then we reject the null hypothesis.\n",
    "-  And if p-value is greater than 0.05 then we accept the null hypothesis."
   ]
  },
  {
   "cell_type": "code",
   "execution_count": 326,
   "metadata": {},
   "outputs": [
    {
     "data": {
      "text/html": [
       "<div>\n",
       "<style scoped>\n",
       "    .dataframe tbody tr th:only-of-type {\n",
       "        vertical-align: middle;\n",
       "    }\n",
       "\n",
       "    .dataframe tbody tr th {\n",
       "        vertical-align: top;\n",
       "    }\n",
       "\n",
       "    .dataframe thead th {\n",
       "        text-align: right;\n",
       "    }\n",
       "</style>\n",
       "<table border=\"1\" class=\"dataframe\">\n",
       "  <thead>\n",
       "    <tr style=\"text-align: right;\">\n",
       "      <th></th>\n",
       "      <th>yr</th>\n",
       "      <th>mnth</th>\n",
       "      <th>weekday</th>\n",
       "      <th>workingday</th>\n",
       "      <th>weathersit</th>\n",
       "      <th>temp</th>\n",
       "      <th>atemp</th>\n",
       "      <th>hum</th>\n",
       "      <th>windspeed</th>\n",
       "      <th>casual</th>\n",
       "      <th>registered</th>\n",
       "      <th>cnt</th>\n",
       "    </tr>\n",
       "    <tr>\n",
       "      <th>dteday</th>\n",
       "      <th></th>\n",
       "      <th></th>\n",
       "      <th></th>\n",
       "      <th></th>\n",
       "      <th></th>\n",
       "      <th></th>\n",
       "      <th></th>\n",
       "      <th></th>\n",
       "      <th></th>\n",
       "      <th></th>\n",
       "      <th></th>\n",
       "      <th></th>\n",
       "    </tr>\n",
       "  </thead>\n",
       "  <tbody>\n",
       "    <tr>\n",
       "      <th>2011-01-01</th>\n",
       "      <td>0.0</td>\n",
       "      <td>1.0</td>\n",
       "      <td>6.0</td>\n",
       "      <td>0.0</td>\n",
       "      <td>2.0</td>\n",
       "      <td>0.355170</td>\n",
       "      <td>0.373517</td>\n",
       "      <td>0.767981</td>\n",
       "      <td>0.388102</td>\n",
       "      <td>331.0</td>\n",
       "      <td>654.0</td>\n",
       "      <td>0.110792</td>\n",
       "    </tr>\n",
       "    <tr>\n",
       "      <th>2011-01-02</th>\n",
       "      <td>0.0</td>\n",
       "      <td>1.0</td>\n",
       "      <td>0.0</td>\n",
       "      <td>0.0</td>\n",
       "      <td>2.0</td>\n",
       "      <td>0.379232</td>\n",
       "      <td>0.360541</td>\n",
       "      <td>0.615202</td>\n",
       "      <td>0.635752</td>\n",
       "      <td>131.0</td>\n",
       "      <td>670.0</td>\n",
       "      <td>0.089623</td>\n",
       "    </tr>\n",
       "    <tr>\n",
       "      <th>2011-01-03</th>\n",
       "      <td>0.0</td>\n",
       "      <td>1.0</td>\n",
       "      <td>1.0</td>\n",
       "      <td>1.0</td>\n",
       "      <td>1.0</td>\n",
       "      <td>0.171000</td>\n",
       "      <td>0.144830</td>\n",
       "      <td>0.254904</td>\n",
       "      <td>0.635105</td>\n",
       "      <td>120.0</td>\n",
       "      <td>1229.0</td>\n",
       "      <td>0.152669</td>\n",
       "    </tr>\n",
       "    <tr>\n",
       "      <th>2011-01-04</th>\n",
       "      <td>0.0</td>\n",
       "      <td>1.0</td>\n",
       "      <td>2.0</td>\n",
       "      <td>1.0</td>\n",
       "      <td>1.0</td>\n",
       "      <td>0.175530</td>\n",
       "      <td>0.174649</td>\n",
       "      <td>0.468123</td>\n",
       "      <td>0.387681</td>\n",
       "      <td>108.0</td>\n",
       "      <td>1454.0</td>\n",
       "      <td>0.177174</td>\n",
       "    </tr>\n",
       "    <tr>\n",
       "      <th>2011-01-05</th>\n",
       "      <td>0.0</td>\n",
       "      <td>1.0</td>\n",
       "      <td>3.0</td>\n",
       "      <td>1.0</td>\n",
       "      <td>1.0</td>\n",
       "      <td>0.209120</td>\n",
       "      <td>0.197158</td>\n",
       "      <td>0.254464</td>\n",
       "      <td>0.462471</td>\n",
       "      <td>82.0</td>\n",
       "      <td>1518.0</td>\n",
       "      <td>0.181546</td>\n",
       "    </tr>\n",
       "  </tbody>\n",
       "</table>\n",
       "</div>"
      ],
      "text/plain": [
       "             yr  mnth  weekday  workingday  weathersit      temp     atemp  \\\n",
       "dteday                                                                       \n",
       "2011-01-01  0.0   1.0      6.0         0.0         2.0  0.355170  0.373517   \n",
       "2011-01-02  0.0   1.0      0.0         0.0         2.0  0.379232  0.360541   \n",
       "2011-01-03  0.0   1.0      1.0         1.0         1.0  0.171000  0.144830   \n",
       "2011-01-04  0.0   1.0      2.0         1.0         1.0  0.175530  0.174649   \n",
       "2011-01-05  0.0   1.0      3.0         1.0         1.0  0.209120  0.197158   \n",
       "\n",
       "                 hum  windspeed  casual  registered       cnt  \n",
       "dteday                                                         \n",
       "2011-01-01  0.767981   0.388102   331.0       654.0  0.110792  \n",
       "2011-01-02  0.615202   0.635752   131.0       670.0  0.089623  \n",
       "2011-01-03  0.254904   0.635105   120.0      1229.0  0.152669  \n",
       "2011-01-04  0.468123   0.387681   108.0      1454.0  0.177174  \n",
       "2011-01-05  0.254464   0.462471    82.0      1518.0  0.181546  "
      ]
     },
     "execution_count": 326,
     "metadata": {},
     "output_type": "execute_result"
    }
   ],
   "source": [
    "df.head()"
   ]
  },
  {
   "cell_type": "code",
   "execution_count": 17,
   "metadata": {},
   "outputs": [],
   "source": [
    "cat_var=['season','weekday','weathersit','yr']\n",
    "df[cat_var]=df[cat_var].apply(lambda x: x.astype('category') )\n",
    "num_var=['temp','atemp','hum','windspeed','cnt']\n",
    "df[num_var]=df[num_var].apply(lambda x: x.astype('float') )"
   ]
  },
  {
   "cell_type": "code",
   "execution_count": 20,
   "metadata": {},
   "outputs": [],
   "source": [
    "def anova_test(df,target):\n",
    "    for i in cat_var:\n",
    "        formula=('{} ~ {}').format(target, i)\n",
    "        df.lm = ols(formula,data=df).fit()\n",
    "        table = sm.stats.anova_lm(df.lm, typ=1)\n",
    "        print('Anova table between',target,'and',i,'is\\n',table)"
   ]
  },
  {
   "cell_type": "code",
   "execution_count": 21,
   "metadata": {},
   "outputs": [
    {
     "name": "stdout",
     "output_type": "stream",
     "text": [
      "\n",
      " For target var = cnt--\n",
      "Anova table between cnt and season is\n",
      "              df     sum_sq   mean_sq           F        PR(>F)\n",
      "season      3.0  12.582197  4.194066  128.769622  6.720391e-67\n",
      "Residual  727.0  23.678611  0.032570         NaN           NaN\n",
      "Anova table between cnt and weekday is\n",
      "              df     sum_sq   mean_sq         F    PR(>F)\n",
      "weekday     6.0   0.233737  0.038956  0.782862  0.583494\n",
      "Residual  724.0  36.027071  0.049761       NaN       NaN\n",
      "Anova table between cnt and weathersit is\n",
      "                df     sum_sq  mean_sq          F        PR(>F)\n",
      "weathersit    2.0   3.595519  1.79776  40.066045  3.106317e-17\n",
      "Residual    728.0  32.665289  0.04487        NaN           NaN\n",
      "Anova table between cnt and yr is\n",
      "              df     sum_sq    mean_sq           F        PR(>F)\n",
      "yr          1.0  11.645517  11.645517  344.890586  2.483540e-63\n",
      "Residual  729.0  24.615291   0.033766         NaN           NaN\n"
     ]
    }
   ],
   "source": [
    "# print('\\n For target var = casual--')\n",
    "# anova_test(df,'casual')\n",
    "# print('\\n For target var = registered--')\n",
    "# anova_test(df,'registered')\n",
    "print('\\n For target var = cnt--')\n",
    "anova_test(df,'cnt')"
   ]
  },
  {
   "cell_type": "markdown",
   "metadata": {},
   "source": [
    "-  After looking at above table we see that p-value is greater than 0.05 for weekday and less for season,weathersit,yr.\n",
    "-  Therefore, we will accept the NULL hypothesis and we can say that some means are nearly/closely same for weekday.\n",
    "-  and accept alternate hypothsis for season,weathersit,yr and say that some means are not equal."
   ]
  },
  {
   "cell_type": "markdown",
   "metadata": {},
   "source": [
    "## Multicollinearity Test"
   ]
  },
  {
   "cell_type": "markdown",
   "metadata": {},
   "source": [
    "-  VIF is always greater or equal to 1.\n",
    "-  if VIF is 1 --- Not correlated to any of the variables.\n",
    "-  if VIF is between 1-5 --- Moderately correlated.\n",
    "-  if VIF is above 5 --- Highly correlated.\n",
    "-  If there are multiple variables with VIF greater than 5, only remove the variable with the highest VIF."
   ]
  },
  {
   "cell_type": "code",
   "execution_count": 22,
   "metadata": {
    "scrolled": false
   },
   "outputs": [
    {
     "data": {
      "text/plain": [
       "season        category\n",
       "yr            category\n",
       "weekday       category\n",
       "weathersit    category\n",
       "temp           float64\n",
       "atemp          float64\n",
       "hum            float64\n",
       "windspeed      float64\n",
       "casual         float64\n",
       "registered     float64\n",
       "cnt            float64\n",
       "dtype: object"
      ]
     },
     "execution_count": 22,
     "metadata": {},
     "output_type": "execute_result"
    }
   ],
   "source": [
    "df.dtypes"
   ]
  },
  {
   "cell_type": "code",
   "execution_count": 121,
   "metadata": {
    "scrolled": true
   },
   "outputs": [
    {
     "data": {
      "text/html": [
       "<div>\n",
       "<style scoped>\n",
       "    .dataframe tbody tr th:only-of-type {\n",
       "        vertical-align: middle;\n",
       "    }\n",
       "\n",
       "    .dataframe tbody tr th {\n",
       "        vertical-align: top;\n",
       "    }\n",
       "\n",
       "    .dataframe thead th {\n",
       "        text-align: right;\n",
       "    }\n",
       "</style>\n",
       "<table border=\"1\" class=\"dataframe\">\n",
       "  <thead>\n",
       "    <tr style=\"text-align: right;\">\n",
       "      <th></th>\n",
       "      <th>VIF</th>\n",
       "      <th>features</th>\n",
       "    </tr>\n",
       "  </thead>\n",
       "  <tbody>\n",
       "    <tr>\n",
       "      <th>0</th>\n",
       "      <td>35.353851</td>\n",
       "      <td>Intercept</td>\n",
       "    </tr>\n",
       "    <tr>\n",
       "      <th>1</th>\n",
       "      <td>2.637288</td>\n",
       "      <td>season[T.2.0]</td>\n",
       "    </tr>\n",
       "    <tr>\n",
       "      <th>2</th>\n",
       "      <td>4.675899</td>\n",
       "      <td>season[T.3.0]</td>\n",
       "    </tr>\n",
       "    <tr>\n",
       "      <th>3</th>\n",
       "      <td>1.851704</td>\n",
       "      <td>season[T.4.0]</td>\n",
       "    </tr>\n",
       "    <tr>\n",
       "      <th>4</th>\n",
       "      <td>1.037223</td>\n",
       "      <td>yr[T.1.0]</td>\n",
       "    </tr>\n",
       "    <tr>\n",
       "      <th>5</th>\n",
       "      <td>1.717578</td>\n",
       "      <td>weekday[T.1.0]</td>\n",
       "    </tr>\n",
       "    <tr>\n",
       "      <th>6</th>\n",
       "      <td>1.721655</td>\n",
       "      <td>weekday[T.2.0]</td>\n",
       "    </tr>\n",
       "    <tr>\n",
       "      <th>7</th>\n",
       "      <td>1.730673</td>\n",
       "      <td>weekday[T.3.0]</td>\n",
       "    </tr>\n",
       "    <tr>\n",
       "      <th>8</th>\n",
       "      <td>1.721733</td>\n",
       "      <td>weekday[T.4.0]</td>\n",
       "    </tr>\n",
       "    <tr>\n",
       "      <th>9</th>\n",
       "      <td>1.732730</td>\n",
       "      <td>weekday[T.5.0]</td>\n",
       "    </tr>\n",
       "    <tr>\n",
       "      <th>10</th>\n",
       "      <td>1.723249</td>\n",
       "      <td>weekday[T.6.0]</td>\n",
       "    </tr>\n",
       "    <tr>\n",
       "      <th>11</th>\n",
       "      <td>1.669514</td>\n",
       "      <td>weathersit[T.2.0]</td>\n",
       "    </tr>\n",
       "    <tr>\n",
       "      <th>12</th>\n",
       "      <td>1.428055</td>\n",
       "      <td>weathersit[T.3.0]</td>\n",
       "    </tr>\n",
       "    <tr>\n",
       "      <th>13</th>\n",
       "      <td>70.556609</td>\n",
       "      <td>temp</td>\n",
       "    </tr>\n",
       "    <tr>\n",
       "      <th>14</th>\n",
       "      <td>66.924299</td>\n",
       "      <td>atemp</td>\n",
       "    </tr>\n",
       "    <tr>\n",
       "      <th>15</th>\n",
       "      <td>2.058885</td>\n",
       "      <td>hum</td>\n",
       "    </tr>\n",
       "    <tr>\n",
       "      <th>16</th>\n",
       "      <td>1.207403</td>\n",
       "      <td>windspeed</td>\n",
       "    </tr>\n",
       "  </tbody>\n",
       "</table>\n",
       "</div>"
      ],
      "text/plain": [
       "          VIF           features\n",
       "0   35.353851          Intercept\n",
       "1    2.637288      season[T.2.0]\n",
       "2    4.675899      season[T.3.0]\n",
       "3    1.851704      season[T.4.0]\n",
       "4    1.037223          yr[T.1.0]\n",
       "5    1.717578     weekday[T.1.0]\n",
       "6    1.721655     weekday[T.2.0]\n",
       "7    1.730673     weekday[T.3.0]\n",
       "8    1.721733     weekday[T.4.0]\n",
       "9    1.732730     weekday[T.5.0]\n",
       "10   1.723249     weekday[T.6.0]\n",
       "11   1.669514  weathersit[T.2.0]\n",
       "12   1.428055  weathersit[T.3.0]\n",
       "13  70.556609               temp\n",
       "14  66.924299              atemp\n",
       "15   2.058885                hum\n",
       "16   1.207403          windspeed"
      ]
     },
     "execution_count": 121,
     "metadata": {},
     "output_type": "execute_result"
    }
   ],
   "source": [
    "outcome, predictors = dmatrices('cnt ~ +season+ yr +weekday + weathersit + temp+atemp + hum + windspeed',df, return_type='dataframe')\n",
    "\n",
    "# calculating VIF for each individual Predictors\n",
    "vif = pd.DataFrame()\n",
    "vif[\"VIF\"] = [variance_inflation_factor(predictors.values, i) for i in range(predictors.shape[1])]\n",
    "vif[\"features\"] = predictors.columns\n",
    "vif"
   ]
  },
  {
   "cell_type": "markdown",
   "metadata": {},
   "source": [
    "-  From above Dataframe we see that there is Multicollinearity in our Data\n",
    "-  temp and atemp has highest VIF value"
   ]
  },
  {
   "cell_type": "markdown",
   "metadata": {},
   "source": [
    "## Feature Engineering"
   ]
  },
  {
   "cell_type": "markdown",
   "metadata": {},
   "source": [
    "#### Feature Engineering on numerical Features\n",
    "-  we know that temp and atemp are both temperature values and are very highly correlated with each other.\n",
    "-  we will aggregate those 2 columns and derive a new feature."
   ]
  },
  {
   "cell_type": "code",
   "execution_count": 18,
   "metadata": {},
   "outputs": [],
   "source": [
    "columns = ['temp','atemp']\n",
    "df['mean_temp'] = df.apply(lambda row: row[columns].mean(), axis=1)"
   ]
  },
  {
   "cell_type": "code",
   "execution_count": null,
   "metadata": {},
   "outputs": [],
   "source": [
    "df.head()"
   ]
  },
  {
   "cell_type": "markdown",
   "metadata": {},
   "source": [
    "-  Now that we have derived a new Column 'mean_temp' we can drop 'temp' and 'atemp'\n",
    "-  Also we will drop 'casual' and 'registered' columns from our dataframe, as their addition is included in 'cnt' column."
   ]
  },
  {
   "cell_type": "code",
   "execution_count": 19,
   "metadata": {},
   "outputs": [],
   "source": [
    "df = df.drop(['temp','atemp'],axis = 1)"
   ]
  },
  {
   "cell_type": "code",
   "execution_count": null,
   "metadata": {
    "scrolled": true
   },
   "outputs": [],
   "source": [
    "df.head()"
   ]
  },
  {
   "cell_type": "markdown",
   "metadata": {},
   "source": [
    "#### Feature Engineering on Categorical Features\n",
    "-  we will use one-hot encoding techniques on categorical variables - season,mnth,weekday,weathersit."
   ]
  },
  {
   "cell_type": "code",
   "execution_count": 124,
   "metadata": {
    "scrolled": false
   },
   "outputs": [
    {
     "data": {
      "text/plain": [
       "season          4\n",
       "yr              2\n",
       "weekday         7\n",
       "weathersit      3\n",
       "hum           595\n",
       "windspeed     637\n",
       "casual        606\n",
       "registered    679\n",
       "cnt           696\n",
       "mean_temp     729\n",
       "dtype: int64"
      ]
     },
     "execution_count": 124,
     "metadata": {},
     "output_type": "execute_result"
    }
   ],
   "source": [
    "df.nunique()"
   ]
  },
  {
   "cell_type": "code",
   "execution_count": 20,
   "metadata": {},
   "outputs": [],
   "source": [
    "one_hot_var = ['season','weekday','weathersit','yr']"
   ]
  },
  {
   "cell_type": "code",
   "execution_count": 21,
   "metadata": {},
   "outputs": [],
   "source": [
    "#Creating dummies for categorical variables\n",
    "for i in one_hot_var:\n",
    "    ''' Creating dummies for each variable in one_hot_var and merging dummies dataframe to our original dataframe '''\n",
    "    temp = pd.get_dummies(df[i], prefix = i)\n",
    "    df = df.join(temp)"
   ]
  },
  {
   "cell_type": "code",
   "execution_count": 22,
   "metadata": {},
   "outputs": [
    {
     "data": {
      "text/plain": [
       "Index(['season', 'yr', 'weekday', 'weathersit', 'hum', 'windspeed', 'casual',\n",
       "       'registered', 'cnt', 'mean_temp', 'season_1.0', 'season_2.0',\n",
       "       'season_3.0', 'season_4.0', 'weekday_0.0', 'weekday_1.0', 'weekday_2.0',\n",
       "       'weekday_3.0', 'weekday_4.0', 'weekday_5.0', 'weekday_6.0',\n",
       "       'weathersit_1.0', 'weathersit_2.0', 'weathersit_3.0', 'yr_0.0',\n",
       "       'yr_1.0'],\n",
       "      dtype='object')"
      ]
     },
     "execution_count": 22,
     "metadata": {},
     "output_type": "execute_result"
    }
   ],
   "source": [
    "df.columns"
   ]
  },
  {
   "cell_type": "markdown",
   "metadata": {},
   "source": [
    "#### We will remove some variables which were used to generate one hot encoding variables"
   ]
  },
  {
   "cell_type": "code",
   "execution_count": 23,
   "metadata": {},
   "outputs": [],
   "source": [
    "df = df.drop(['season','weekday','weathersit','yr'],axis = 1)"
   ]
  },
  {
   "cell_type": "markdown",
   "metadata": {},
   "source": [
    "## Splitting data into train and test"
   ]
  },
  {
   "cell_type": "markdown",
   "metadata": {},
   "source": [
    "-  With the time series data we will break up our train and test into continuous chunks.\n",
    "-  The training data should be the earliest data and test data should be the latest data.\n",
    "-  we will fit our model on the training data and test on the newest data, to understand how our model performs on new, unseen data.\n",
    "-  we can't use sklearn's train_test_split bcoz it randomly shuffles the train and test data."
   ]
  },
  {
   "cell_type": "markdown",
   "metadata": {},
   "source": [
    "Separating features from target variable."
   ]
  },
  {
   "cell_type": "code",
   "execution_count": 24,
   "metadata": {},
   "outputs": [
    {
     "data": {
      "text/plain": [
       "(dteday\n",
       " 2011-01-01    0.110792\n",
       " 2011-01-02    0.089623\n",
       " 2011-01-03    0.152669\n",
       " 2011-01-04    0.177174\n",
       " 2011-01-05    0.181546\n",
       " Name: cnt, dtype: float64, dteday\n",
       " 2011-01-01    331.0\n",
       " 2011-01-02    131.0\n",
       " 2011-01-03    120.0\n",
       " 2011-01-04    108.0\n",
       " 2011-01-05     82.0\n",
       " Name: casual, dtype: float64, dteday\n",
       " 2011-01-01     654.0\n",
       " 2011-01-02     670.0\n",
       " 2011-01-03    1229.0\n",
       " 2011-01-04    1454.0\n",
       " 2011-01-05    1518.0\n",
       " Name: registered, dtype: float64)"
      ]
     },
     "execution_count": 24,
     "metadata": {},
     "output_type": "execute_result"
    }
   ],
   "source": [
    "target_cnt = df.iloc[:,4]\n",
    "target_casual = df.iloc[:,2]\n",
    "target_registered = df.iloc[:,3]\n",
    "target_cnt.head(),target_casual.head(),target_registered.head()"
   ]
  },
  {
   "cell_type": "code",
   "execution_count": 25,
   "metadata": {
    "scrolled": true
   },
   "outputs": [
    {
     "data": {
      "text/html": [
       "<div>\n",
       "<style scoped>\n",
       "    .dataframe tbody tr th:only-of-type {\n",
       "        vertical-align: middle;\n",
       "    }\n",
       "\n",
       "    .dataframe tbody tr th {\n",
       "        vertical-align: top;\n",
       "    }\n",
       "\n",
       "    .dataframe thead th {\n",
       "        text-align: right;\n",
       "    }\n",
       "</style>\n",
       "<table border=\"1\" class=\"dataframe\">\n",
       "  <thead>\n",
       "    <tr style=\"text-align: right;\">\n",
       "      <th></th>\n",
       "      <th>hum</th>\n",
       "      <th>windspeed</th>\n",
       "      <th>mean_temp</th>\n",
       "      <th>season_1.0</th>\n",
       "      <th>season_2.0</th>\n",
       "      <th>season_3.0</th>\n",
       "      <th>season_4.0</th>\n",
       "      <th>weekday_0.0</th>\n",
       "      <th>weekday_1.0</th>\n",
       "      <th>weekday_2.0</th>\n",
       "      <th>weekday_3.0</th>\n",
       "      <th>weekday_4.0</th>\n",
       "      <th>weekday_5.0</th>\n",
       "      <th>weekday_6.0</th>\n",
       "      <th>weathersit_1.0</th>\n",
       "      <th>weathersit_2.0</th>\n",
       "      <th>weathersit_3.0</th>\n",
       "      <th>yr_0.0</th>\n",
       "      <th>yr_1.0</th>\n",
       "    </tr>\n",
       "    <tr>\n",
       "      <th>dteday</th>\n",
       "      <th></th>\n",
       "      <th></th>\n",
       "      <th></th>\n",
       "      <th></th>\n",
       "      <th></th>\n",
       "      <th></th>\n",
       "      <th></th>\n",
       "      <th></th>\n",
       "      <th></th>\n",
       "      <th></th>\n",
       "      <th></th>\n",
       "      <th></th>\n",
       "      <th></th>\n",
       "      <th></th>\n",
       "      <th></th>\n",
       "      <th></th>\n",
       "      <th></th>\n",
       "      <th></th>\n",
       "      <th></th>\n",
       "    </tr>\n",
       "  </thead>\n",
       "  <tbody>\n",
       "    <tr>\n",
       "      <th>2011-01-01</th>\n",
       "      <td>0.767981</td>\n",
       "      <td>0.388102</td>\n",
       "      <td>0.364343</td>\n",
       "      <td>1</td>\n",
       "      <td>0</td>\n",
       "      <td>0</td>\n",
       "      <td>0</td>\n",
       "      <td>0</td>\n",
       "      <td>0</td>\n",
       "      <td>0</td>\n",
       "      <td>0</td>\n",
       "      <td>0</td>\n",
       "      <td>0</td>\n",
       "      <td>1</td>\n",
       "      <td>0</td>\n",
       "      <td>1</td>\n",
       "      <td>0</td>\n",
       "      <td>1</td>\n",
       "      <td>0</td>\n",
       "    </tr>\n",
       "    <tr>\n",
       "      <th>2011-01-02</th>\n",
       "      <td>0.615202</td>\n",
       "      <td>0.635752</td>\n",
       "      <td>0.369886</td>\n",
       "      <td>1</td>\n",
       "      <td>0</td>\n",
       "      <td>0</td>\n",
       "      <td>0</td>\n",
       "      <td>1</td>\n",
       "      <td>0</td>\n",
       "      <td>0</td>\n",
       "      <td>0</td>\n",
       "      <td>0</td>\n",
       "      <td>0</td>\n",
       "      <td>0</td>\n",
       "      <td>0</td>\n",
       "      <td>1</td>\n",
       "      <td>0</td>\n",
       "      <td>1</td>\n",
       "      <td>0</td>\n",
       "    </tr>\n",
       "    <tr>\n",
       "      <th>2011-01-03</th>\n",
       "      <td>0.254904</td>\n",
       "      <td>0.635105</td>\n",
       "      <td>0.157915</td>\n",
       "      <td>1</td>\n",
       "      <td>0</td>\n",
       "      <td>0</td>\n",
       "      <td>0</td>\n",
       "      <td>0</td>\n",
       "      <td>1</td>\n",
       "      <td>0</td>\n",
       "      <td>0</td>\n",
       "      <td>0</td>\n",
       "      <td>0</td>\n",
       "      <td>0</td>\n",
       "      <td>1</td>\n",
       "      <td>0</td>\n",
       "      <td>0</td>\n",
       "      <td>1</td>\n",
       "      <td>0</td>\n",
       "    </tr>\n",
       "    <tr>\n",
       "      <th>2011-01-04</th>\n",
       "      <td>0.468123</td>\n",
       "      <td>0.387681</td>\n",
       "      <td>0.175090</td>\n",
       "      <td>1</td>\n",
       "      <td>0</td>\n",
       "      <td>0</td>\n",
       "      <td>0</td>\n",
       "      <td>0</td>\n",
       "      <td>0</td>\n",
       "      <td>1</td>\n",
       "      <td>0</td>\n",
       "      <td>0</td>\n",
       "      <td>0</td>\n",
       "      <td>0</td>\n",
       "      <td>1</td>\n",
       "      <td>0</td>\n",
       "      <td>0</td>\n",
       "      <td>1</td>\n",
       "      <td>0</td>\n",
       "    </tr>\n",
       "    <tr>\n",
       "      <th>2011-01-05</th>\n",
       "      <td>0.254464</td>\n",
       "      <td>0.462471</td>\n",
       "      <td>0.203139</td>\n",
       "      <td>1</td>\n",
       "      <td>0</td>\n",
       "      <td>0</td>\n",
       "      <td>0</td>\n",
       "      <td>0</td>\n",
       "      <td>0</td>\n",
       "      <td>0</td>\n",
       "      <td>1</td>\n",
       "      <td>0</td>\n",
       "      <td>0</td>\n",
       "      <td>0</td>\n",
       "      <td>1</td>\n",
       "      <td>0</td>\n",
       "      <td>0</td>\n",
       "      <td>1</td>\n",
       "      <td>0</td>\n",
       "    </tr>\n",
       "  </tbody>\n",
       "</table>\n",
       "</div>"
      ],
      "text/plain": [
       "                 hum  windspeed  mean_temp  season_1.0  season_2.0  \\\n",
       "dteday                                                               \n",
       "2011-01-01  0.767981   0.388102   0.364343           1           0   \n",
       "2011-01-02  0.615202   0.635752   0.369886           1           0   \n",
       "2011-01-03  0.254904   0.635105   0.157915           1           0   \n",
       "2011-01-04  0.468123   0.387681   0.175090           1           0   \n",
       "2011-01-05  0.254464   0.462471   0.203139           1           0   \n",
       "\n",
       "            season_3.0  season_4.0  weekday_0.0  weekday_1.0  weekday_2.0  \\\n",
       "dteday                                                                      \n",
       "2011-01-01           0           0            0            0            0   \n",
       "2011-01-02           0           0            1            0            0   \n",
       "2011-01-03           0           0            0            1            0   \n",
       "2011-01-04           0           0            0            0            1   \n",
       "2011-01-05           0           0            0            0            0   \n",
       "\n",
       "            weekday_3.0  weekday_4.0  weekday_5.0  weekday_6.0  \\\n",
       "dteday                                                           \n",
       "2011-01-01            0            0            0            1   \n",
       "2011-01-02            0            0            0            0   \n",
       "2011-01-03            0            0            0            0   \n",
       "2011-01-04            0            0            0            0   \n",
       "2011-01-05            1            0            0            0   \n",
       "\n",
       "            weathersit_1.0  weathersit_2.0  weathersit_3.0  yr_0.0  yr_1.0  \n",
       "dteday                                                                      \n",
       "2011-01-01               0               1               0       1       0  \n",
       "2011-01-02               0               1               0       1       0  \n",
       "2011-01-03               1               0               0       1       0  \n",
       "2011-01-04               1               0               0       1       0  \n",
       "2011-01-05               1               0               0       1       0  "
      ]
     },
     "execution_count": 25,
     "metadata": {},
     "output_type": "execute_result"
    }
   ],
   "source": [
    "feature = df.drop(['cnt','casual','registered'],axis=1)\n",
    "feature.head()"
   ]
  },
  {
   "cell_type": "code",
   "execution_count": 26,
   "metadata": {},
   "outputs": [
    {
     "name": "stdout",
     "output_type": "stream",
     "text": [
      "(731, 22) (584, 19) (147, 19) (584,) (147,)\n"
     ]
    }
   ],
   "source": [
    "train_size = int(0.80 * df.shape[0]) # train_size = 584\n",
    "train_features = feature[:train_size]\n",
    "train_target_cnt = target_cnt[:train_size]\n",
    "test_features = feature[train_size:]\n",
    "test_target_cnt = target_cnt[train_size:]\n",
    "print(df.shape, train_features.shape, test_features.shape,train_target_cnt.shape,test_target_cnt.shape)"
   ]
  },
  {
   "cell_type": "code",
   "execution_count": null,
   "metadata": {
    "scrolled": false
   },
   "outputs": [],
   "source": [
    "df[train_size:].tail()"
   ]
  },
  {
   "cell_type": "code",
   "execution_count": null,
   "metadata": {
    "scrolled": true
   },
   "outputs": [],
   "source": [
    "pd.DataFrame(test_features).tail()"
   ]
  },
  {
   "cell_type": "markdown",
   "metadata": {},
   "source": [
    "## Dimensionality Reduction using PCA technique"
   ]
  },
  {
   "cell_type": "markdown",
   "metadata": {},
   "source": [
    "-  Dimensionality Reduction finds patterns in the data and uses that pattern to reexpress it in a compressed form.\n",
    "-  Removes less information noise features."
   ]
  },
  {
   "cell_type": "code",
   "execution_count": 26,
   "metadata": {
    "scrolled": false
   },
   "outputs": [
    {
     "name": "stderr",
     "output_type": "stream",
     "text": [
      "C:\\Users\\admin\\Anaconda3\\lib\\site-packages\\sklearn\\preprocessing\\data.py:617: DataConversionWarning: Data with input dtype uint8, float64 were all converted to float64 by StandardScaler.\n",
      "  return self.partial_fit(X, y)\n",
      "C:\\Users\\admin\\Anaconda3\\lib\\site-packages\\ipykernel_launcher.py:8: DataConversionWarning: Data with input dtype uint8, float64 were all converted to float64 by StandardScaler.\n",
      "  \n",
      "C:\\Users\\admin\\Anaconda3\\lib\\site-packages\\ipykernel_launcher.py:9: DataConversionWarning: Data with input dtype uint8, float64 were all converted to float64 by StandardScaler.\n",
      "  if __name__ == '__main__':\n"
     ]
    }
   ],
   "source": [
    "from sklearn.preprocessing import StandardScaler\n",
    "scaler = StandardScaler()\n",
    "\n",
    "# Fit on training set only.\n",
    "scaler.fit(train_features)\n",
    "\n",
    "# Apply transform to both the training set and the test set.\n",
    "train_features = scaler.transform(train_features)\n",
    "test_features = scaler.transform(test_features)"
   ]
  },
  {
   "cell_type": "markdown",
   "metadata": {},
   "source": [
    "Fit PCA on training set. Note: you are fitting PCA on the training set only"
   ]
  },
  {
   "cell_type": "code",
   "execution_count": 42,
   "metadata": {},
   "outputs": [
    {
     "name": "stdout",
     "output_type": "stream",
     "text": [
      "[ 19.87  36.95  48.96  58.71  64.38  69.94  75.48  80.99  86.48  91.94\n",
      "  97.38  99.08  99.59  99.86 100.01 100.01 100.01 100.01 100.01]\n"
     ]
    },
    {
     "data": {
      "text/plain": [
       "[<matplotlib.lines.Line2D at 0x19951814a20>]"
      ]
     },
     "execution_count": 42,
     "metadata": {},
     "output_type": "execute_result"
    },
    {
     "data": {
      "image/png": "[encoded data removed]",
      "text/plain": [
       "<Figure size 432x288 with 1 Axes>"
      ]
     },
     "metadata": {},
     "output_type": "display_data"
    }
   ],
   "source": [
    "pca = PCA()\n",
    "pca.fit(train_features)\n",
    "#The amount of variance that each PC explains\n",
    "var= pca.explained_variance_ratio_\n",
    "#Cumulative Variance explains\n",
    "var1=np.cumsum(np.round(pca.explained_variance_ratio_, decimals=4)*100)\n",
    "print(var1)\n",
    "plt.plot(var1)"
   ]
  },
  {
   "cell_type": "code",
   "execution_count": 43,
   "metadata": {
    "scrolled": true
   },
   "outputs": [
    {
     "data": {
      "image/png": "[encoded data removed]",
      "text/plain": [
       "<Figure size 432x288 with 1 Axes>"
      ]
     },
     "metadata": {},
     "output_type": "display_data"
    }
   ],
   "source": [
    "features = range(pca.n_components_)\n",
    "plt.bar(features, pca.explained_variance_)\n",
    "plt.xlabel('PCA feature')\n",
    "plt.ylabel('variance')\n",
    "plt.xticks(features)\n",
    "plt.show()"
   ]
  },
  {
   "cell_type": "markdown",
   "metadata": {},
   "source": [
    "-  The intrinsic dimension is the number of PCA features with significant variance.\n",
    "-  So from the above barplot: intrinsic dimension = 15.\n",
    "-  Now we have reduced the dimension of our data."
   ]
  },
  {
   "cell_type": "code",
   "execution_count": 49,
   "metadata": {},
   "outputs": [
    {
     "data": {
      "text/plain": [
       "PCA(copy=True, iterated_power='auto', n_components=15, random_state=None,\n",
       "  svd_solver='auto', tol=0.0, whiten=False)"
      ]
     },
     "execution_count": 49,
     "metadata": {},
     "output_type": "execute_result"
    }
   ],
   "source": [
    "pca = PCA(n_components=15)\n",
    "pca.fit(train_features)"
   ]
  },
  {
   "cell_type": "code",
   "execution_count": 50,
   "metadata": {},
   "outputs": [
    {
     "data": {
      "image/png": "[encoded data removed]",
      "text/plain": [
       "<Figure size 432x288 with 1 Axes>"
      ]
     },
     "metadata": {},
     "output_type": "display_data"
    }
   ],
   "source": [
    "features = range(pca.n_components_)\n",
    "plt.bar(features, pca.explained_variance_)\n",
    "plt.xlabel('PCA feature')\n",
    "plt.ylabel('variance')\n",
    "plt.xticks(features)\n",
    "plt.show()"
   ]
  },
  {
   "cell_type": "markdown",
   "metadata": {},
   "source": [
    "Apply the mapping (transform) to both the training set and the test set."
   ]
  },
  {
   "cell_type": "code",
   "execution_count": 51,
   "metadata": {},
   "outputs": [],
   "source": [
    "train_features = pca.transform(train_features)\n",
    "test_features = pca.transform(test_features)"
   ]
  },
  {
   "cell_type": "code",
   "execution_count": 52,
   "metadata": {},
   "outputs": [
    {
     "data": {
      "text/plain": [
       "(147, 15)"
      ]
     },
     "execution_count": 52,
     "metadata": {},
     "output_type": "execute_result"
    }
   ],
   "source": [
    "pd.DataFrame(test_features).shape"
   ]
  },
  {
   "cell_type": "markdown",
   "metadata": {},
   "source": [
    "## Model Development"
   ]
  },
  {
   "cell_type": "markdown",
   "metadata": {},
   "source": [
    "Regression metrics for our Models:\n",
    "-  r square\n",
    "-  MAE(Mean Absolute Error)\n",
    "-  MSE(Mean square Error)\n",
    "-  RMSE(Root Mean Square Error)\n",
    "-  RMSLE( Root Mean Squared Log Error)"
   ]
  },
  {
   "cell_type": "code",
   "execution_count": 44,
   "metadata": {},
   "outputs": [],
   "source": [
    "def rmsle(y,y_):\n",
    "    log1 = np.nan_to_num(np.array([np.log(v + 1) for v in y]))\n",
    "    log2 = np.nan_to_num(np.array([np.log(v + 1) for v in y_]))\n",
    "    calc = (log1 - log2) ** 2\n",
    "    return np.sqrt(np.mean(calc))\n",
    "def scores(y, y_):\n",
    "    print('r square  ', metrics.r2_score(y, y_))\n",
    "    print('MAPE:{}'.format(np.mean(np.abs((y - y_) / y))*100))\n",
    "    print('MSE:', metrics.mean_squared_error(y, y_))\n",
    "    print('RMSE:', np.sqrt(metrics.mean_squared_error(y, y_))) \n",
    "def test_scores(model):\n",
    "    print('<<<------------------- Training Data Score --------------------->')\n",
    "    print()\n",
    "    #Predicting result on Training data\n",
    "    y_pred = model.predict(train_features)\n",
    "    scores(train_target_cnt,y_pred)\n",
    "    print('RMSLE:',rmsle(train_target_cnt,y_pred))\n",
    "    print()\n",
    "    print('<<<------------------- Test Data Score --------------------->')\n",
    "    print()\n",
    "    # Evaluating on Test Set\n",
    "    y_pred = model.predict(test_features)\n",
    "    scores(test_target_cnt,y_pred)\n",
    "    print('RMSLE:',rmsle(test_target_cnt,y_pred))"
   ]
  },
  {
   "cell_type": "code",
   "execution_count": 28,
   "metadata": {},
   "outputs": [],
   "source": [
    "from sklearn.linear_model import LinearRegression,Ridge,Lasso\n",
    "from sklearn.model_selection import TimeSeriesSplit\n",
    "from sklearn.model_selection import GridSearchCV\n",
    "from sklearn.model_selection import cross_val_score\n",
    "from sklearn.ensemble import RandomForestRegressor\n",
    "from sklearn.tree import DecisionTreeRegressor"
   ]
  },
  {
   "cell_type": "markdown",
   "metadata": {},
   "source": [
    "## Linear Regression"
   ]
  },
  {
   "cell_type": "code",
   "execution_count": 31,
   "metadata": {},
   "outputs": [
    {
     "name": "stdout",
     "output_type": "stream",
     "text": [
      "Tuned Decision reg Parameters: {'copy_X': True, 'fit_intercept': True}\n",
      "Best score is 0.3838273887872527\n"
     ]
    },
    {
     "name": "stderr",
     "output_type": "stream",
     "text": [
      "C:\\Users\\admin\\Anaconda3\\lib\\site-packages\\sklearn\\model_selection\\_search.py:841: DeprecationWarning: The default of the `iid` parameter will change from True to False in version 0.22 and will be removed in 0.24. This will change numeric results when test-set sizes are unequal.\n",
      "  DeprecationWarning)\n"
     ]
    }
   ],
   "source": [
    "# Setup the parameters and distributions to sample from: param_dist\n",
    "param_dist = {'copy_X':[True, False],\n",
    "          'fit_intercept':[True,False]}\n",
    "# Instantiate a Decision reg classifier: reg\n",
    "reg = LinearRegression()\n",
    "\n",
    "# Instantiate the gridSearchCV object: reg_cv\n",
    "reg_cv = GridSearchCV(reg, param_dist, cv=5,scoring='r2')\n",
    "\n",
    "# Fit it to the data\n",
    "reg_cv.fit(feature, target_cnt)\n",
    "\n",
    "# Print the tuned parameters and score\n",
    "print(\"Tuned Decision reg Parameters: {}\".format(reg_cv.best_params_))\n",
    "print(\"Best score is {}\".format(reg_cv.best_score_))"
   ]
  },
  {
   "cell_type": "code",
   "execution_count": 45,
   "metadata": {},
   "outputs": [
    {
     "name": "stdout",
     "output_type": "stream",
     "text": [
      "[-0.09578977 -0.0983756   0.44703831 -0.09874077  0.03643026 -0.00716993\n",
      "  0.06948043 -0.02061576 -0.01700151  0.00437814 -0.00093259  0.00956496\n",
      "  0.0117245   0.01288227  0.07607201  0.03384651 -0.10991851 -0.11189981\n",
      "  0.11189981]\n"
     ]
    },
    {
     "data": {
      "image/png": "[encoded data removed]",
      "text/plain": [
       "<Figure size 432x288 with 1 Axes>"
      ]
     },
     "metadata": {},
     "output_type": "display_data"
    },
    {
     "name": "stdout",
     "output_type": "stream",
     "text": [
      "<<<------------------- Training Data Score --------------------->\n",
      "\n",
      "r square   0.8380255588271439\n",
      "MAPE:17.58782912369447\n",
      "MSE: 0.006849026675949111\n",
      "RMSE: 0.08275884651171203\n",
      "RMSLE: 0.055782372529511744\n",
      "\n",
      "<<<------------------- Test Data Score --------------------->\n",
      "\n",
      "r square   0.6062558716595496\n",
      "MAPE:inf\n",
      "MSE: 0.018314759486588443\n",
      "RMSE: 0.13533203422171872\n",
      "RMSLE: 0.0884816747733433\n"
     ]
    }
   ],
   "source": [
    "# Instantiate a reg regressor: reg\n",
    "reg = LinearRegression(copy_X= True, fit_intercept=True)\n",
    "\n",
    "# Fit the regressor to the data\n",
    "reg.fit(train_features,train_target_cnt)\n",
    "\n",
    "# Compute and print the coefficients\n",
    "reg_coef = reg.coef_\n",
    "print(reg_coef)\n",
    "\n",
    "# Plot the coefficients\n",
    "plt.plot(range(len(feature.columns)), reg_coef)\n",
    "plt.xticks(range(len(feature.columns)), feature.columns.values, rotation=60)\n",
    "plt.margins(0.02)\n",
    "plt.show()\n",
    "test_scores(reg)"
   ]
  },
  {
   "cell_type": "code",
   "execution_count": null,
   "metadata": {},
   "outputs": [],
   "source": [
    "# from regressors import stats\n",
    "# stats.summary(reg,train_features,train_target_cnt)"
   ]
  },
  {
   "cell_type": "code",
   "execution_count": 60,
   "metadata": {},
   "outputs": [
    {
     "name": "stdout",
     "output_type": "stream",
     "text": [
      "Observations: 367\n",
      "Training Observations: 185\n",
      "Testing Observations: 182\n",
      "Observations: 549\n",
      "Training Observations: 367\n",
      "Testing Observations: 182\n",
      "Observations: 731\n",
      "Training Observations: 549\n",
      "Testing Observations: 182\n"
     ]
    },
    {
     "data": {
      "image/png": "[encoded data removed]",
      "text/plain": [
       "<Figure size 1440x720 with 3 Axes>"
      ]
     },
     "metadata": {},
     "output_type": "display_data"
    }
   ],
   "source": [
    "X = feature.values\n",
    "splits = TimeSeriesSplit(n_splits=3)\n",
    "plt.figure(figsize=(20,10))\n",
    "index = 1\n",
    "for train_index, test_index in splits.split(X):\n",
    "    train = X[train_index]\n",
    "    test = X[test_index]\n",
    "    print('Observations: %d' % (len(train) + len(test)))\n",
    "    print('Training Observations: %d' % (len(train)))\n",
    "    print('Testing Observations: %d' % (len(test)))\n",
    "    plt.subplot(310 + index)\n",
    "    plt.xlim(0,731)\n",
    "    plt.plot(pd.DataFrame(train).iloc[:,2])\n",
    "    plt.plot(pd.DataFrame(test).iloc[:,2])\n",
    "    index += 1\n",
    "plt.show()"
   ]
  },
  {
   "cell_type": "markdown",
   "metadata": {},
   "source": [
    "## Ridge Regression"
   ]
  },
  {
   "cell_type": "code",
   "execution_count": 40,
   "metadata": {},
   "outputs": [
    {
     "name": "stdout",
     "output_type": "stream",
     "text": [
      "Tuned Decision ridge Parameters: {'alpha': 0.10481131341546852, 'max_iter': 500, 'normalize': True}\n",
      "Best score is 0.41165254212146357\n"
     ]
    },
    {
     "name": "stderr",
     "output_type": "stream",
     "text": [
      "C:\\Users\\admin\\Anaconda3\\lib\\site-packages\\sklearn\\model_selection\\_search.py:841: DeprecationWarning: The default of the `iid` parameter will change from True to False in version 0.22 and will be removed in 0.24. This will change numeric results when test-set sizes are unequal.\n",
      "  DeprecationWarning)\n"
     ]
    }
   ],
   "source": [
    "# Setup the parameters and distributions to sample from: param_dist\n",
    "param_dist = {'alpha':np.logspace(-4, 0, 50),\n",
    "          'normalize':[True,False],\n",
    "             'max_iter':range(500,5000,500)}\n",
    "# Instantiate a Decision ridge classifier: ridge\n",
    "ridge = Ridge()\n",
    "\n",
    "# Instantiate the gridSearchCV object: ridge_cv\n",
    "ridge_cv = GridSearchCV(ridge, param_dist, cv=5,scoring='r2')\n",
    "\n",
    "# Fit it to the data\n",
    "ridge_cv.fit(feature, target_cnt)\n",
    "\n",
    "# Print the tuned parameters and score\n",
    "print(\"Tuned Decision ridge Parameters: {}\".format(ridge_cv.best_params_))\n",
    "print(\"Best score is {}\".format(ridge_cv.best_score_))"
   ]
  },
  {
   "cell_type": "code",
   "execution_count": 41,
   "metadata": {},
   "outputs": [
    {
     "name": "stdout",
     "output_type": "stream",
     "text": [
      "[-0.07239348 -0.09532294  0.36425465 -0.10188669  0.04608518  0.01915229\n",
      "  0.05862232 -0.01970059 -0.01552565  0.00489176 -0.0009442   0.00937853\n",
      "  0.01151732  0.01062947  0.03354663 -0.01437926 -0.15159619 -0.10711533\n",
      "  0.10711533]\n"
     ]
    },
    {
     "data": {
      "image/png": "[encoded data removed]",
      "text/plain": [
       "<Figure size 432x288 with 1 Axes>"
      ]
     },
     "metadata": {},
     "output_type": "display_data"
    },
    {
     "name": "stdout",
     "output_type": "stream",
     "text": [
      "<<<------------------- Training Data Score --------------------->\n",
      "\n",
      "r square   0.8338189641204203\n",
      "MAPE: 18.183498846865508\n",
      "MSE: 0.007026900908159052\n",
      "RMSE: 0.0838266121715476\n",
      "RMSLE: 0.05661785787801864\n",
      "\n",
      "<<<------------------- Test Data Score --------------------->\n",
      "\n",
      "r square   0.5724536937366584\n",
      "MAPE: inf\n",
      "MSE: 0.01988704644713287\n",
      "RMSE: 0.14102143967189126\n",
      "RMSLE: 0.09143794074174001\n"
     ]
    }
   ],
   "source": [
    "# Instantiate a ridge regressor: ridge\n",
    "ridge = Ridge(alpha=0.10481131341546852, normalize=True,max_iter = 500)\n",
    "\n",
    "# Fit the regressor to the data\n",
    "ridge.fit(train_features,train_target_cnt)\n",
    "\n",
    "# Compute and print the coefficients\n",
    "ridge_coef = ridge.coef_\n",
    "print(ridge_coef)\n",
    "\n",
    "# Plot the coefficients\n",
    "plt.plot(range(len(feature.columns)), ridge_coef)\n",
    "plt.xticks(range(len(feature.columns)), feature.columns.values, rotation=60)\n",
    "plt.margins(0.02)\n",
    "plt.show()\n",
    "test_scores(ridge)"
   ]
  },
  {
   "cell_type": "markdown",
   "metadata": {},
   "source": [
    "## Lasso Regression"
   ]
  },
  {
   "cell_type": "code",
   "execution_count": 39,
   "metadata": {},
   "outputs": [
    {
     "name": "stdout",
     "output_type": "stream",
     "text": [
      "Tuned Decision lasso Parameters: {'alpha': 0.0016768329368110067, 'max_iter': 1000, 'normalize': False}\n",
      "Best score is 0.40677751497154\n"
     ]
    },
    {
     "name": "stderr",
     "output_type": "stream",
     "text": [
      "C:\\Users\\admin\\Anaconda3\\lib\\site-packages\\sklearn\\model_selection\\_search.py:841: DeprecationWarning: The default of the `iid` parameter will change from True to False in version 0.22 and will be removed in 0.24. This will change numeric results when test-set sizes are unequal.\n",
      "  DeprecationWarning)\n"
     ]
    }
   ],
   "source": [
    "# Setup the parameters and distributions to sample from: param_dist\n",
    "param_dist = {'alpha':np.logspace(-4, 0, 50),\n",
    "          'normalize':[True,False],\n",
    "             'max_iter':range(1000,5000,500)}\n",
    "# Instantiate a Decision lasso classifier: lasso\n",
    "lasso = Lasso()\n",
    "\n",
    "# Instantiate the gridSearchCV object: lasso_cv\n",
    "lasso_cv = GridSearchCV(lasso, param_dist, cv=5,scoring='r2')\n",
    "\n",
    "# Fit it to the data\n",
    "lasso_cv.fit(feature, target_cnt)\n",
    "\n",
    "# Print the tuned parameters and score\n",
    "print(\"Tuned Decision lasso Parameters: {}\".format(lasso_cv.best_params_))\n",
    "print(\"Best score is {}\".format(lasso_cv.best_score_))"
   ]
  },
  {
   "cell_type": "code",
   "execution_count": 34,
   "metadata": {},
   "outputs": [
    {
     "name": "stdout",
     "output_type": "stream",
     "text": [
      "[-0. -0.  0. -0.  0.  0. -0. -0. -0.  0. -0.  0.  0.  0.  0. -0. -0. -0.\n",
      "  0.]\n"
     ]
    },
    {
     "data": {
      "image/png": "[encoded data removed]",
      "text/plain": [
       "<Figure size 432x288 with 1 Axes>"
      ]
     },
     "metadata": {},
     "output_type": "display_data"
    },
    {
     "name": "stdout",
     "output_type": "stream",
     "text": [
      "<<<------------------- Training Data Score --------------------->\n",
      "\n",
      "r square   0.0\n",
      "MAPE: 58.75695120857932\n",
      "MSE: 0.04228461371038137\n",
      "RMSE: 0.20563222925986424\n",
      "RMSLE: 0.1416501528839825\n",
      "\n",
      "<<<------------------- Test Data Score --------------------->\n",
      "\n",
      "r square   -0.865700554832749\n",
      "MAPE: inf\n",
      "MSE: 0.08678188314775702\n",
      "RMSE: 0.29458764934694226\n",
      "RMSLE: 0.18443096191430738\n"
     ]
    }
   ],
   "source": [
    "# Instantiate a lasso regressor: lasso\n",
    "lasso = Lasso(alpha=0.4, normalize=True)\n",
    "\n",
    "# Fit the regressor to the data\n",
    "lasso.fit(train_features,train_target_cnt)\n",
    "\n",
    "# Compute and print the coefficients\n",
    "lasso_coef = lasso.coef_\n",
    "print(lasso_coef)\n",
    "\n",
    "# Plot the coefficients\n",
    "plt.plot(range(len(feature.columns)), lasso_coef)\n",
    "plt.xticks(range(len(feature.columns)), feature.columns.values, rotation=60)\n",
    "plt.margins(0.02)\n",
    "plt.show()\n",
    "test_scores(lasso)"
   ]
  },
  {
   "cell_type": "markdown",
   "metadata": {},
   "source": [
    "## Decision Tree Regression"
   ]
  },
  {
   "cell_type": "code",
   "execution_count": 161,
   "metadata": {},
   "outputs": [
    {
     "name": "stdout",
     "output_type": "stream",
     "text": [
      "Tuned Decision Tree Parameters: {'max_depth': 6, 'min_samples_split': 6}\n",
      "Best score is -0.1348443516410423\n"
     ]
    },
    {
     "name": "stderr",
     "output_type": "stream",
     "text": [
      "C:\\Users\\admin\\Anaconda3\\lib\\site-packages\\sklearn\\model_selection\\_search.py:841: DeprecationWarning: The default of the `iid` parameter will change from True to False in version 0.22 and will be removed in 0.24. This will change numeric results when test-set sizes are unequal.\n",
      "  DeprecationWarning)\n"
     ]
    }
   ],
   "source": [
    "# Setup the parameters and distributions to sample from: param_dist\n",
    "param_dist = {'max_depth': range(2,16,2),\n",
    "              'min_samples_split': range(2,16,2)}\n",
    "\n",
    "# Instantiate a Decision Tree classifier: tree\n",
    "tree = DecisionTreeRegressor()\n",
    "\n",
    "# Instantiate the gridSearchCV object: tree_cv\n",
    "tree_cv = GridSearchCV(tree, param_dist, cv=5)\n",
    "\n",
    "# Fit it to the data\n",
    "tree_cv.fit(feature, target_cnt)\n",
    "\n",
    "# Print the tuned parameters and score\n",
    "print(\"Tuned Decision Tree Parameters: {}\".format(tree_cv.best_params_))\n",
    "print(\"Best score is {}\".format(tree_cv.best_score_))"
   ]
  },
  {
   "cell_type": "code",
   "execution_count": null,
   "metadata": {},
   "outputs": [],
   "source": [
    "# Instantiate a tree regressor: tree\n",
    "tree = DecisionTreeRegressor(max_depth= 6, min_samples_split=6)\n",
    "\n",
    "# Fit the regressor to the data\n",
    "tree.fit(train_features,train_target_cnt)\n",
    "\n",
    "# Compute and print the coefficients\n",
    "tree_features = tree.feature_importances_\n",
    "print(tree_features)\n",
    "\n",
    "# Sort feature importances in descending order\n",
    "indices = np.argsort(tree_features)[::1]\n",
    "\n",
    "# Rearrange feature names so they match the sorted feature importances\n",
    "names = [feature.columns[i] for i in indices]\n",
    "\n",
    "# Creating plot\n",
    "fig = plt.figure(figsize=(20,20))\n",
    "plt.title(\"Feature Importance\")\n",
    "\n",
    "# Add horizontal bars\n",
    "plt.barh(range(pd.DataFrame(train_features).shape[1]),tree_features[indices],align = 'center')\n",
    "plt.yticks(range(pd.DataFrame(train_features).shape[1]), names)\n",
    "plt.show()# Make predictions\n",
    "print (\"error metric values For Linear Regression: \",test_scores(tree))"
   ]
  },
  {
   "cell_type": "markdown",
   "metadata": {},
   "source": [
    "## Random Forest Regression"
   ]
  },
  {
   "cell_type": "code",
   "execution_count": null,
   "metadata": {},
   "outputs": [],
   "source": [
    "# Create the random grid\n",
    "random_grid = {'n_estimators': range(100,700,100),\n",
    "               'max_depth': range(10,20,1),\n",
    "               'min_samples_split':range(2,5,1)}\n",
    "# Instantiate a Decision Forest classifier: Forest\n",
    "Forest = RandomForestRegressor()\n",
    "\n",
    "# Instantiate the gridSearchCV object: Forest_cv\n",
    "Forest_cv = GridSearchCV(Forest, random_grid, cv=5)\n",
    "\n",
    "# Fit it to the data\n",
    "Forest_cv.fit(feature, target_cnt)\n",
    "\n",
    "# Print the tuned parameters and score\n",
    "print(\"Tuned Decision Forest Parameters: {}\".format(Forest_cv.best_params_))\n",
    "print(\"Best score is {}\".format(Forest_cv.best_score_))"
   ]
  },
  {
   "cell_type": "code",
   "execution_count": null,
   "metadata": {},
   "outputs": [],
   "source": [
    "# Instantiate a tree regressor: tree\n",
    "tree = DecisionTreeRegressor(max_depth= 6, min_samples_split=6)\n",
    "\n",
    "# Fit the regressor to the data\n",
    "tree.fit(train_features,train_target_cnt)\n",
    "\n",
    "# Compute and print the coefficients\n",
    "tree_features = tree.feature_importances_\n",
    "print(tree_features)\n",
    "\n",
    "# Sort feature importances in descending order\n",
    "indices = np.argsort(tree_features)[::1]\n",
    "\n",
    "# Rearrange feature names so they match the sorted feature importances\n",
    "names = [feature.columns[i] for i in indices]\n",
    "\n",
    "# Creating plot\n",
    "fig = plt.figure(figsize=(20,20))\n",
    "plt.title(\"Feature Importance\")\n",
    "\n",
    "# Add horizontal bars\n",
    "plt.barh(range(pd.DataFrame(train_features).shape[1]),tree_features[indices],align = 'center')\n",
    "plt.yticks(range(pd.DataFrame(train_features).shape[1]), names)\n",
    "plt.show()# Make predictions\n",
    "print (\"error metric values For Linear Regression: \",test_scores(tree))"
   ]
  }
 ],
 "metadata": {
  "kernelspec": {
   "display_name": "Python 3",
   "language": "python",
   "name": "python3"
  },
  "language_info": {
   "codemirror_mode": {
    "name": "ipython",
    "version": 3
   },
   "file_extension": ".py",
   "mimetype": "text/x-python",
   "name": "python",
   "nbconvert_exporter": "python",
   "pygments_lexer": "ipython3",
   "version": "3.6.7"
  }
 },
 "nbformat": 4,
 "nbformat_minor": 2
}
